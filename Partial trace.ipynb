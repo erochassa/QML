{
 "cells": [
  {
   "cell_type": "markdown",
   "metadata": {},
   "source": [
    "# Making sense of partial traces\n",
    "\n",
    "\n",
    "$\n",
    "\\rho^A = tr_B \\rho^{AB} = \\sum^{N_B}_{j=1} (I_A \\otimes <\\phi_j|) \\rho^{AB} (I_A \\otimes |\\phi_j>) \\quad \\text{s.t.} \\quad N_B = dim H_B\n",
    "$\n",
    "\n",
    "$\n",
    "\\rho^B = tr_A \\rho^{AB} = \\sum^{N_A}_{j=1} (<\\psi_j| \\otimes I_B ) \\rho^{AB} (|\\psi_j> \\otimes I_B ) \\quad \\text{s.t.} \\quad N_A = dim H_A\n",
    "$\n",
    "\n",
    "This corresponds to a change of basis of the matrix $\\rho^{AB}$."
   ]
  },
  {
   "cell_type": "code",
   "execution_count": 1,
   "metadata": {},
   "outputs": [],
   "source": [
    "from sympy import *\n",
    "import numpy as np"
   ]
  },
  {
   "cell_type": "code",
   "execution_count": 2,
   "metadata": {},
   "outputs": [],
   "source": [
    "a,b,c,d,e,f,g,h,i,j,k,l,m,n,o,p=symbols(\"a,b,c,d,e,f,g,h,i,j,k,l,m,n,o,p\")"
   ]
  },
  {
   "cell_type": "code",
   "execution_count": 3,
   "metadata": {},
   "outputs": [],
   "source": [
    "X=Matrix([[a,b,c,d],[e,f,g,h],[i,j,k,l],[m,n,o,p]])"
   ]
  },
  {
   "cell_type": "code",
   "execution_count": 4,
   "metadata": {},
   "outputs": [
    {
     "data": {
      "text/latex": [
       "$\\displaystyle \\left[\\begin{matrix}a & b & c & d\\\\e & f & g & h\\\\i & j & k & l\\\\m & n & o & p\\end{matrix}\\right]$"
      ],
      "text/plain": [
       "Matrix([\n",
       "[a, b, c, d],\n",
       "[e, f, g, h],\n",
       "[i, j, k, l],\n",
       "[m, n, o, p]])"
      ]
     },
     "execution_count": 4,
     "metadata": {},
     "output_type": "execute_result"
    }
   ],
   "source": [
    "X"
   ]
  },
  {
   "cell_type": "markdown",
   "metadata": {},
   "source": [
    "My interpretation is that\n",
    "\n",
    "$\n",
    "(I_A \\otimes <\\phi_j|)\n",
    "$\n",
    "\n",
    "is just the Kronecker product of the identity and the $j^{th}$ bra. **Furthermore, this is the new base of** $\\rho^{AB}$.\n",
    "\n",
    "And this is just the transpose (should I call it hermitian?):\n",
    "\n",
    "$\n",
    "(I_A \\otimes |\\phi_j>)\n",
    "$"
   ]
  },
  {
   "cell_type": "code",
   "execution_count": 5,
   "metadata": {},
   "outputs": [],
   "source": [
    "phi0 = np.array([[1],[0]])  # zero ket\n",
    "phi1 = np.array([[0],[1]])  # one ket\n",
    "I = np.eye(2)               # just the identity"
   ]
  },
  {
   "cell_type": "code",
   "execution_count": 6,
   "metadata": {},
   "outputs": [],
   "source": [
    "A = Matrix(np.kron(I, phi0.T)) # first base (notice the transpose to make a bra - should I use H - hermitian?)\n",
    "B = Matrix(np.kron(I, phi1.T)) # second base (notice the transpose to make a bra)"
   ]
  },
  {
   "cell_type": "markdown",
   "metadata": {},
   "source": [
    "Well, the results match the end of the video lecture:"
   ]
  },
  {
   "cell_type": "code",
   "execution_count": 7,
   "metadata": {},
   "outputs": [
    {
     "data": {
      "text/latex": [
       "$\\displaystyle \\left[\\begin{matrix}1.0 a + 1.0 f & 1.0 c + 1.0 h\\\\1.0 i + 1.0 n & 1.0 k + 1.0 p\\end{matrix}\\right]$"
      ],
      "text/plain": [
       "Matrix([\n",
       "[1.0*a + 1.0*f, 1.0*c + 1.0*h],\n",
       "[1.0*i + 1.0*n, 1.0*k + 1.0*p]])"
      ]
     },
     "execution_count": 7,
     "metadata": {},
     "output_type": "execute_result"
    }
   ],
   "source": [
    "A*X*A.T + B*X*B.T"
   ]
  },
  {
   "cell_type": "markdown",
   "metadata": {},
   "source": [
    "I belive $\\psi$ and $\\phi$ are the same vectors."
   ]
  },
  {
   "cell_type": "code",
   "execution_count": 8,
   "metadata": {},
   "outputs": [],
   "source": [
    "psi0 = phi0\n",
    "psi1 = phi1"
   ]
  },
  {
   "cell_type": "code",
   "execution_count": 9,
   "metadata": {},
   "outputs": [],
   "source": [
    "C = Matrix(np.kron(psi0.T, I))\n",
    "D = Matrix(np.kron(psi1.T, I))"
   ]
  },
  {
   "cell_type": "markdown",
   "metadata": {},
   "source": [
    "And this also recovers the matrix matrix shown in the JaeYoo post."
   ]
  },
  {
   "cell_type": "code",
   "execution_count": 11,
   "metadata": {},
   "outputs": [
    {
     "data": {
      "text/latex": [
       "$\\displaystyle \\left[\\begin{matrix}1.0 a + 1.0 k & 1.0 b + 1.0 l\\\\1.0 e + 1.0 o & 1.0 f + 1.0 p\\end{matrix}\\right]$"
      ],
      "text/plain": [
       "Matrix([\n",
       "[1.0*a + 1.0*k, 1.0*b + 1.0*l],\n",
       "[1.0*e + 1.0*o, 1.0*f + 1.0*p]])"
      ]
     },
     "execution_count": 11,
     "metadata": {},
     "output_type": "execute_result"
    }
   ],
   "source": [
    "C*X*C.T + D*X*D.T"
   ]
  },
  {
   "cell_type": "code",
   "execution_count": null,
   "metadata": {},
   "outputs": [],
   "source": []
  }
 ],
 "metadata": {
  "kernelspec": {
   "display_name": "Python 3",
   "language": "python",
   "name": "python3"
  },
  "language_info": {
   "codemirror_mode": {
    "name": "ipython",
    "version": 3
   },
   "file_extension": ".py",
   "mimetype": "text/x-python",
   "name": "python",
   "nbconvert_exporter": "python",
   "pygments_lexer": "ipython3",
   "version": "3.5.2"
  }
 },
 "nbformat": 4,
 "nbformat_minor": 2
}
